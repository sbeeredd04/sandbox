{
 "cells": [
  {
   "cell_type": "code",
   "execution_count": 3,
   "id": "ea3b6655",
   "metadata": {},
   "outputs": [
    {
     "name": "stderr",
     "output_type": "stream",
     "text": [
      "-"
     ]
    },
    {
     "name": "stdout",
     "output_type": "stream",
     "text": [
      "Opening dataset in read-only mode as you don't have write permissions.\n"
     ]
    },
    {
     "name": "stderr",
     "output_type": "stream",
     "text": [
      "\\"
     ]
    },
    {
     "name": "stdout",
     "output_type": "stream",
     "text": [
      "This dataset can be visualized in Jupyter Notebook by ds.visualize() or at https://app.activeloop.ai/activeloop/ucf-sports-action\n",
      "\n"
     ]
    },
    {
     "name": "stderr",
     "output_type": "stream",
     "text": [
      "/"
     ]
    },
    {
     "name": "stdout",
     "output_type": "stream",
     "text": [
      "hub://activeloop/ucf-sports-action loaded successfully.\n",
      "\n",
      "['SkateBoarding-Front', 'Golf-Swing-Front', 'Lifting', 'Walk-Front', 'Golf-Swing-Side', 'Run-Side', 'Riding-Horse', 'Swing-SideAngle', 'Kicking-Front', 'Swing-Bench', 'Diving-Side', 'Kicking-Side', 'Golf-Swing-Back']\n",
      "{}\n",
      "{'class_names': ['SkateBoarding-Front', 'Golf-Swing-Front', 'Lifting', 'Walk-Front', 'Golf-Swing-Side', 'Run-Side', 'Riding-Horse', 'Swing-SideAngle', 'Kicking-Front', 'Swing-Bench', 'Diving-Side', 'Kicking-Side', 'Golf-Swing-Back']}\n"
     ]
    },
    {
     "name": "stderr",
     "output_type": "stream",
     "text": [
      " "
     ]
    }
   ],
   "source": [
    "import deeplake\n",
    "ds = deeplake.load('hub://activeloop/ucf-sports-action')\n",
    "\n",
    "print(ds.labels.info['class_names'])\n",
    "\n",
    "# get details about the dataset\n",
    "print(ds.info)\n",
    "\n",
    "# get details about the labels\n",
    "print(ds.labels.info)"
   ]
  }
 ],
 "metadata": {
  "kernelspec": {
   "display_name": "env",
   "language": "python",
   "name": "python3"
  },
  "language_info": {
   "codemirror_mode": {
    "name": "ipython",
    "version": 3
   },
   "file_extension": ".py",
   "mimetype": "text/x-python",
   "name": "python",
   "nbconvert_exporter": "python",
   "pygments_lexer": "ipython3",
   "version": "3.11.13"
  }
 },
 "nbformat": 4,
 "nbformat_minor": 5
}
