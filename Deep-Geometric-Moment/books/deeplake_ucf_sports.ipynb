{
 "cells": [
  {
   "cell_type": "code",
   "execution_count": null,
   "id": "ea3b6655",
   "metadata": {},
   "outputs": [],
   "source": [
    "import deeplake\n",
    "ds = deeplake.load('hub://activeloop/ucf-sports-action')\n",
    "\n",
    "print(ds.labels.info['class_names'])\n",
    "\n",
    "# get details about the dataset\n",
    "print(ds.info)\n",
    "\n",
    "# get details about the labels\n",
    "print(ds.labels.info)\n",
    "\n",
    "ds.visualize()\n"
   ]
  }
 ],
 "metadata": {
  "kernelspec": {
   "display_name": "env",
   "language": "python",
   "name": "python3"
  },
  "language_info": {
   "codemirror_mode": {
    "name": "ipython",
    "version": 3
   },
   "file_extension": ".py",
   "mimetype": "text/x-python",
   "name": "python",
   "nbconvert_exporter": "python",
   "pygments_lexer": "ipython3",
   "version": "3.11.13"
  }
 },
 "nbformat": 4,
 "nbformat_minor": 5
}
