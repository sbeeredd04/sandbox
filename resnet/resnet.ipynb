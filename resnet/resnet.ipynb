{
 "cells": [
  {
   "cell_type": "code",
   "execution_count": null,
   "id": "0ebe6890",
   "metadata": {},
   "outputs": [],
   "source": [
    "import torch\n",
    "import torch.nn as nn\n",
    "import torch.optim as optim\n",
    "import torchvision\n",
    "import torchvision.transforms as transforms\n",
    "        "
   ]
  },
  {
   "cell_type": "markdown",
   "id": "0a41d018",
   "metadata": {},
   "source": [
    "## Conv Block Module"
   ]
  },
  {
   "cell_type": "code",
   "execution_count": null,
   "id": "ce7bd77f",
   "metadata": {},
   "outputs": [],
   "source": [
    "#clas for conv block module\n",
    "class ConvBlock(nn.Module):\n",
    "    \n",
    "    def __init__(self, in_channels, out_channels, kernel_size, stride, padding):\n",
    "        \n",
    "        #super function to call the constructor of the parent class\n",
    "        super(ConvBlock, self).__init__()\n",
    "        \n",
    "        #conv layer\n",
    "        self.conv = nn.Conv2d(in_channels, out_channels, kernel_size, stride, padding)\n",
    "        \n",
    "        #batch normalization\n",
    "        self.bn = nn.BatchNorm2d(out_channels)\n",
    "        \n",
    "        #relu activation function\n",
    "        self.relu = nn.ReLU(inplace=True)\n",
    "        \n",
    "    \n",
    "    def forward(self, x):\n",
    "        #conv layer\n",
    "        x = self.conv(x)\n",
    "        \n",
    "        #batch normalization\n",
    "        x = self.bn(x)\n",
    "        \n",
    "        #relu activation function\n",
    "        x = self.relu(x)\n",
    "        "
   ]
  },
  {
   "cell_type": "markdown",
   "id": "989dd02e",
   "metadata": {},
   "source": [
    "## Residual Block Module"
   ]
  },
  {
   "cell_type": "code",
   "execution_count": null,
   "id": "eeb0dbfe",
   "metadata": {},
   "outputs": [],
   "source": [
    "class ResidualBlock(nn.Module):\n",
    "    \n",
    "    def __init__(self, in_channels, out_channels, first=False):\n",
    "        \n",
    "        super(ResidualBlock, self).__init__()\n",
    "        \n",
    "        #res channels\n",
    "        res_channels = in_channels // 4\n",
    "        stride = 1\n",
    "        \n",
    "        self.projection = in_channels != out_channels\n",
    "        if self.projection:\n",
    "            self.conv = nn.Conv2d(in_channels, out_channels, 1, 2, 0)\n",
    "            stride = 2\n",
    "            res_channels = in_channels // 2\n",
    "        \n",
    "        if first : \n",
    "            self.conv = ConvBlock(in_channels, out_channels, 1, 2, 0)\n",
    "            stride = 1\n",
    "            res_channels = in_channels \n",
    "        \n",
    "        #conv layer\n",
    "        self.conv1 = nn.Conv2d(in_channels, res_channels, 1, 1, 0)\n",
    "        self.conv2 = nn.Conv2d(res_channels, res_channels, 3, stride, 1)\n",
    "        self.conv3 = nn.Conv2d(res_channels, out_channels, 1, 1, 0)\n",
    "        self.relu = nn.ReLU()\n",
    "        \n",
    "    \n",
    "    def forward(self, x):\n",
    "        \n",
    "        f = self.relu(self.conv1(x))\n",
    "        f = self.relu(self.conv2(x))\n",
    "        f = self.conv3(x)\n",
    "        \n",
    "        if self.projection:\n",
    "            x = self.conv(x)\n",
    "            \n",
    "        h = self.relu(torch.add(f, x))\n",
    "        \n",
    "        return h\n",
    "    \n",
    "    \n",
    "\n",
    "    "
   ]
  },
  {
   "cell_type": "markdown",
   "id": "98afafac",
   "metadata": {},
   "source": [
    "## ResNet module "
   ]
  },
  {
   "cell_type": "code",
   "execution_count": null,
   "id": "f7189c51",
   "metadata": {},
   "outputs": [],
   "source": [
    "class Resnet(nn.Module):\n",
    "    \n",
    "    def __init__(self, no_blocks, in_channels, classes=10):\n",
    "        super(Resnet, self).__init__()\n",
    "        \n",
    "        out_features = [256, 512, 1024, 2048]\n",
    "        \n",
    "        self.blocks = nn.ModuleList([ResidualBlock(64, 256, first=True)])\n",
    "        \n",
    "        for i in range(1, len(out_features)):\n",
    "            \n",
    "            if i > 0: \n",
    "                self.blocks.append(ResidualBlock(out_features[i-1], out_features[i]))\n",
    "                \n",
    "            for _ in range(no_blocks[i] - 1):\n",
    "                self.blocks.append(ResidualBlock(out_features[i], out_features[i]))\n",
    "                \n",
    "        \n",
    "        #network conv blocks \n",
    "        self.conv1 = ConvBlock(in_channels, 64, 7, 2, 3)\n",
    "        self.maxpool = nn.MaxPool2d(kernel_size=3, stride=2, padding=1)\n",
    "        self.avgpool = nn.AdaptiveAvgPool2d((1, 1))\n",
    "        self.fc = nn.Linear(out_features[-1], classes)\n",
    "        \n",
    "        self.relu = nn.ReLU()\n",
    "        \n",
    "    def forward(self, x):\n",
    "        x = self.relu(self.conv1(x))\n",
    "        x = self.maxpool(x)\n",
    "        \n",
    "        for block in self.blocks:\n",
    "            x = block(x)\n",
    "            \n",
    "        x = self.avgpool(x)\n",
    "        x = self.fc(x)\n",
    "        \n",
    "        return x"
   ]
  }
 ],
 "metadata": {
  "language_info": {
   "name": "python"
  }
 },
 "nbformat": 4,
 "nbformat_minor": 5
}
